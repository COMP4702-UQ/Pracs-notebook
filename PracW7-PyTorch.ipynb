{
 "cells": [
  {
   "cell_type": "markdown",
   "metadata": {
    "id": "R7q0B-nuJ-SC"
   },
   "source": [
    "<a href=\"https://colab.research.google.com/github/COMP4702-UQ/Pracs-notebook/blob/main/PracW7-Pytorch.ipynb\" target=\"_parent\"><img src=\"https://colab.research.google.com/assets/colab-badge.svg\" alt=\"Open In Colab\"/></a>"
   ]
  },
  {
   "cell_type": "code",
   "execution_count": 1,
   "metadata": {
    "colab": {
     "base_uri": "https://localhost:8080/"
    },
    "executionInfo": {
     "elapsed": 24225,
     "status": "ok",
     "timestamp": 1744447511016,
     "user": {
      "displayName": "Khai Tran",
      "userId": "17698159866751146148"
     },
     "user_tz": -600
    },
    "id": "0uoq3kMPf9Cn",
    "outputId": "17eb0111-8956-456d-9631-e5a89cb95c2e"
   },
   "outputs": [
    {
     "name": "stdout",
     "output_type": "stream",
     "text": [
      "2.6.0+cu124\n",
      "Requirement already satisfied: tqdm in /usr/local/lib/python3.11/dist-packages (4.67.1)\n"
     ]
    }
   ],
   "source": [
    "import torch\n",
    "import torch.nn as nn\n",
    "import torch.optim as optim\n",
    "from torchvision import datasets, transforms\n",
    "from torch.utils.data import DataLoader, random_split\n",
    "import random\n",
    "\n",
    "print(torch.__version__)\n",
    "\n",
    "# Library for Progres Bar during training\n",
    "!pip install tqdm"
   ]
  },
  {
   "cell_type": "code",
   "execution_count": 2,
   "metadata": {
    "colab": {
     "base_uri": "https://localhost:8080/"
    },
    "executionInfo": {
     "elapsed": 28,
     "status": "ok",
     "timestamp": 1744447511099,
     "user": {
      "displayName": "Khai Tran",
      "userId": "17698159866751146148"
     },
     "user_tz": -600
    },
    "id": "2SayFGV8KWBN",
    "outputId": "1b68bf63-9529-45c3-940c-c1608f0f683c"
   },
   "outputs": [
    {
     "name": "stdout",
     "output_type": "stream",
     "text": [
      "Cuda Available : True\n",
      "GPU - Tesla T4\n"
     ]
    }
   ],
   "source": [
    "# Optional to run code on GPU\n",
    "# Check if CUDA is available and if device is GPU\n",
    "print('Cuda Available : {}'.format(torch.cuda.is_available()))\n",
    "print('GPU - {0}'.format(torch.cuda.get_device_name()))\n",
    "\n",
    "# Note:\n",
    "# If this gives you an error on Google colab, go into 'Additional connection otions' > 'Change runtime type' > Select a GPU as the Hardware Accelerator\n",
    "# If you're running code on your machine locally, your machine needs have a GPU supported graphics card and CUDA installed."
   ]
  },
  {
   "cell_type": "markdown",
   "metadata": {
    "id": "lHLyUyZJKjfk"
   },
   "source": [
    "### [Beginner tutorial](https://pytorch.org/tutorials/beginner/blitz/cifar10_tutorial.html) on how to train a classifier with PyTorch on image data"
   ]
  },
  {
   "cell_type": "markdown",
   "metadata": {
    "id": "S_TOsphumoZS"
   },
   "source": [
    "## Q3"
   ]
  },
  {
   "cell_type": "markdown",
   "metadata": {
    "id": "OlUswGrKeG9k"
   },
   "source": [
    "### LOAD & VISUALISE MNIST"
   ]
  },
  {
   "cell_type": "code",
   "execution_count": 4,
   "metadata": {
    "colab": {
     "base_uri": "https://localhost:8080/",
     "height": 226
    },
    "executionInfo": {
     "elapsed": 17754,
     "status": "ok",
     "timestamp": 1744447539842,
     "user": {
      "displayName": "Khai Tran",
      "userId": "17698159866751146148"
     },
     "user_tz": -600
    },
    "id": "cmQqCTNPeIgX",
    "outputId": "9ecd9e52-e99a-4437-d08c-4f41d7d360c8"
   },
   "outputs": [
    {
     "name": "stderr",
     "output_type": "stream",
     "text": [
      "100%|██████████| 9.91M/9.91M [00:02<00:00, 4.58MB/s]\n",
      "100%|██████████| 28.9k/28.9k [00:00<00:00, 134kB/s]\n",
      "100%|██████████| 1.65M/1.65M [00:06<00:00, 244kB/s]\n",
      "100%|██████████| 4.54k/4.54k [00:00<00:00, 5.53MB/s]\n"
     ]
    },
    {
     "data": {
      "image/png": "[encoded data removed]",
      "text/plain": [
       "<Figure size 1500x300 with 10 Axes>"
      ]
     },
     "metadata": {},
     "output_type": "display_data"
    }
   ],
   "source": [
    "# Load MNIST dataset\n",
    "mnist_train = datasets.MNIST('data', train=True, download=True)\n",
    "mnist_test = datasets.MNIST('data', train=False, download=True)\n",
    "\n",
    "import matplotlib.pyplot as plt\n",
    "\n",
    "# Define a function to visualize images and their labels\n",
    "def visualize_samples(dataset, num_samples=10):\n",
    "    fig, axes = plt.subplots(1, num_samples, figsize=(15, 3))\n",
    "    for i in range(num_samples):\n",
    "        image, label = dataset[i]\n",
    "        axes[i].imshow(image, cmap='gray')\n",
    "        axes[i].set_title(f'Label: {label}')\n",
    "        axes[i].axis('off')\n",
    "    plt.show()\n",
    "\n",
    "# Visualize samples from the training set\n",
    "visualize_samples(mnist_train)"
   ]
  },
  {
   "cell_type": "markdown",
   "metadata": {
    "id": "Ig_6Rz3chvW1"
   },
   "source": [
    "### STATISTICS OF MNIST"
   ]
  },
  {
   "cell_type": "code",
   "execution_count": 5,
   "metadata": {
    "colab": {
     "base_uri": "https://localhost:8080/"
    },
    "executionInfo": {
     "elapsed": 1162,
     "status": "ok",
     "timestamp": 1744447547983,
     "user": {
      "displayName": "Khai Tran",
      "userId": "17698159866751146148"
     },
     "user_tz": -600
    },
    "id": "cw229YUOhvf1",
    "outputId": "149cc37e-302a-412e-9de7-b9363f8726a2"
   },
   "outputs": [
    {
     "name": "stdout",
     "output_type": "stream",
     "text": [
      "Min Pixel Value: 0 \n",
      "Max Pixel Value: 255\n",
      "Mean Pixel Value 33.31842041015625 \n",
      "Pixel Values Std: 78.56748962402344\n",
      "Scaled Mean Pixel Value 0.13066047430038452 \n",
      "Scaled Pixel Values Std: 0.30810779333114624\n"
     ]
    }
   ],
   "source": [
    "print('Min Pixel Value: {} \\nMax Pixel Value: {}'.format(mnist_train.data.min(), mnist_train.data.max()))\n",
    "print('Mean Pixel Value {} \\nPixel Values Std: {}'.format(mnist_train.data.float().mean(), mnist_train.data.float().std()))\n",
    "print('Scaled Mean Pixel Value {} \\nScaled Pixel Values Std: {}'.format(mnist_train.data.float().mean() / 255, mnist_train.data.float().std() / 255))"
   ]
  },
  {
   "cell_type": "markdown",
   "metadata": {
    "id": "UgCdVfJkh-WK"
   },
   "source": [
    "### NORMALIZE MNIST AND PREPARE DATA FOR TRAINING"
   ]
  },
  {
   "cell_type": "code",
   "execution_count": null,
   "metadata": {
    "id": "FnFj2S7ih-eU"
   },
   "outputs": [],
   "source": [
    "# Define transformations\n",
    "transform = transforms.Compose([\n",
    "    transforms.ToTensor(),  # Convert PIL Image to tensor\n",
    "    transforms.Normalize((0.1307,), (0.3081,))  # Normalize the pixel values\n",
    "])\n",
    "\n",
    "# TODO: Load MNIST training dataset with transformations\n",
    "\n",
    "# TODO: Split dataset into training, validation, and test sets\n",
    "\n",
    "# TODO: Define data loaders\n",
    "train_loader = ...\n",
    "val_loader = ...\n",
    "test_loader = ..."
   ]
  },
  {
   "cell_type": "markdown",
   "metadata": {
    "id": "COjmw8i2kQFF"
   },
   "source": [
    "### DEFINE MLP"
   ]
  },
  {
   "cell_type": "code",
   "execution_count": null,
   "metadata": {
    "id": "G0_onq-JkQTY"
   },
   "outputs": [],
   "source": [
    "# Define MLP model\n",
    "class MLP(nn.Module):\n",
    "    def __init__(self):\n",
    "        super(MLP, self).__init__()\n",
    "        # TODO: define the layers of the model here\n",
    "\n",
    "    def forward(self, x):\n",
    "        # TODO: pass the data through each layer of the model here\n",
    "\n",
    "        return x"
   ]
  },
  {
   "cell_type": "markdown",
   "metadata": {
    "id": "0xlcwcodkXRE"
   },
   "source": [
    "### TRAINING"
   ]
  },
  {
   "cell_type": "code",
   "execution_count": null,
   "metadata": {
    "colab": {
     "base_uri": "https://localhost:8080/"
    },
    "executionInfo": {
     "elapsed": 131618,
     "status": "ok",
     "timestamp": 1744447126272,
     "user": {
      "displayName": "Khai Tran",
      "userId": "17698159866751146148"
     },
     "user_tz": -600
    },
    "id": "2fL76fkFkXXQ",
    "outputId": "c10bc084-ed8b-4e7b-e605-be006088996f"
   },
   "outputs": [
    {
     "name": "stderr",
     "output_type": "stream",
     "text": [
      "Epoch 1: 100%|██████████| 750/750 [00:16<00:00, 46.50it/s]\n"
     ]
    },
    {
     "name": "stdout",
     "output_type": "stream",
     "text": [
      "Epoch [1/10], Validation Accuracy: 90.44%\n"
     ]
    },
    {
     "name": "stderr",
     "output_type": "stream",
     "text": [
      "Epoch 2: 100%|██████████| 750/750 [00:09<00:00, 77.71it/s]\n"
     ]
    },
    {
     "name": "stdout",
     "output_type": "stream",
     "text": [
      "Epoch [2/10], Validation Accuracy: 92.23%\n"
     ]
    },
    {
     "name": "stderr",
     "output_type": "stream",
     "text": [
      "Epoch 3: 100%|██████████| 750/750 [00:09<00:00, 78.64it/s]\n"
     ]
    },
    {
     "name": "stdout",
     "output_type": "stream",
     "text": [
      "Epoch [3/10], Validation Accuracy: 93.43%\n"
     ]
    },
    {
     "name": "stderr",
     "output_type": "stream",
     "text": [
      "Epoch 4: 100%|██████████| 750/750 [00:09<00:00, 78.43it/s]\n"
     ]
    },
    {
     "name": "stdout",
     "output_type": "stream",
     "text": [
      "Epoch [4/10], Validation Accuracy: 94.14%\n"
     ]
    },
    {
     "name": "stderr",
     "output_type": "stream",
     "text": [
      "Epoch 5: 100%|██████████| 750/750 [00:09<00:00, 76.96it/s]\n"
     ]
    },
    {
     "name": "stdout",
     "output_type": "stream",
     "text": [
      "Epoch [5/10], Validation Accuracy: 94.60%\n"
     ]
    },
    {
     "name": "stderr",
     "output_type": "stream",
     "text": [
      "Epoch 6: 100%|██████████| 750/750 [00:09<00:00, 77.85it/s]\n"
     ]
    },
    {
     "name": "stdout",
     "output_type": "stream",
     "text": [
      "Epoch [6/10], Validation Accuracy: 95.07%\n"
     ]
    },
    {
     "name": "stderr",
     "output_type": "stream",
     "text": [
      "Epoch 7: 100%|██████████| 750/750 [00:10<00:00, 71.60it/s]\n"
     ]
    },
    {
     "name": "stdout",
     "output_type": "stream",
     "text": [
      "Epoch [7/10], Validation Accuracy: 95.15%\n"
     ]
    },
    {
     "name": "stderr",
     "output_type": "stream",
     "text": [
      "Epoch 8: 100%|██████████| 750/750 [00:10<00:00, 74.89it/s]\n"
     ]
    },
    {
     "name": "stdout",
     "output_type": "stream",
     "text": [
      "Epoch [8/10], Validation Accuracy: 95.53%\n"
     ]
    },
    {
     "name": "stderr",
     "output_type": "stream",
     "text": [
      "Epoch 9: 100%|██████████| 750/750 [00:10<00:00, 73.53it/s]\n"
     ]
    },
    {
     "name": "stdout",
     "output_type": "stream",
     "text": [
      "Epoch [9/10], Validation Accuracy: 95.85%\n"
     ]
    },
    {
     "name": "stderr",
     "output_type": "stream",
     "text": [
      "Epoch 10: 100%|██████████| 750/750 [00:10<00:00, 73.07it/s]\n"
     ]
    },
    {
     "name": "stdout",
     "output_type": "stream",
     "text": [
      "Epoch [10/10], Validation Accuracy: 95.97%\n"
     ]
    }
   ],
   "source": [
    "from tqdm import tqdm\n",
    "\n",
    "# Initialize model\n",
    "model = MLP()\n",
    "\n",
    "# TODO: Define the following for your model\n",
    "# loss function\n",
    "# learning rate\n",
    "# optimizer (e.g., SGD, Adam)\n",
    "# number of epochs to train the model\n",
    "\n",
    "for epoch in range(num_epochs):\n",
    "    # TODO: train the model\n",
    "      # get the inputs from train data loader\n",
    "      # zero the parameter gradients\n",
    "      # forward pass through the model\n",
    "      # backward propagation + optimize\n",
    "      # print statistics\n",
    "\n",
    "    # TODO: Validate the model\n",
    "      # get inputs from validation data loader\n",
    "      # forward pass + get predicted outputs\n",
    "      # calculate accuracy of predictions\n",
    "      # print statistics"
   ]
  },
  {
   "cell_type": "markdown",
   "metadata": {
    "id": "Lr9fJF05I2cQ"
   },
   "source": [
    "### Testing"
   ]
  },
  {
   "cell_type": "code",
   "execution_count": null,
   "metadata": {
    "colab": {
     "base_uri": "https://localhost:8080/"
    },
    "executionInfo": {
     "elapsed": 1745,
     "status": "ok",
     "timestamp": 1744447128025,
     "user": {
      "displayName": "Khai Tran",
      "userId": "17698159866751146148"
     },
     "user_tz": -600
    },
    "id": "-oQ3Df3HmBfj",
    "outputId": "7b83990b-730a-4861-a5cd-4f755e178036"
   },
   "outputs": [
    {
     "name": "stdout",
     "output_type": "stream",
     "text": [
      "Test Accuracy: 96.01%\n"
     ]
    }
   ],
   "source": [
    "# TODO: Evaluate the model on the test data\n",
    "  # get inputs from test data loader\n",
    "      # forward pass + get predicted outputs\n",
    "      # calculate accuracy of predictions\n",
    "      # print statistics"
   ]
  },
  {
   "cell_type": "markdown",
   "metadata": {
    "id": "ysXVMhbcI5Ds"
   },
   "source": [
    "### VISUALISE PREDICTION"
   ]
  },
  {
   "cell_type": "code",
   "execution_count": null,
   "metadata": {
    "colab": {
     "base_uri": "https://localhost:8080/"
    },
    "executionInfo": {
     "elapsed": 591,
     "status": "ok",
     "timestamp": 1744447128621,
     "user": {
      "displayName": "Khai Tran",
      "userId": "17698159866751146148"
     },
     "user_tz": -600
    },
    "id": "xUxgiTBvBK3S",
    "outputId": "818b9921-a37f-49b4-a079-2ae0235a2f8c"
   },
   "outputs": [
    {
     "data": {
      "image/png": "[encoded data removed]",
      "text/plain": [
       "<Figure size 1000x500 with 10 Axes>"
      ]
     },
     "metadata": {},
     "output_type": "display_data"
    }
   ],
   "source": [
    "# TODO: Get the model prediction on test images\n",
    "\n",
    "# Plotting\n",
    "images = images.cpu()\n",
    "predicted = predicted.cpu()\n",
    "random_indices = random.sample(range(len(images)), 10)\n",
    "\n",
    "plt.figure(figsize=(10, 5))\n",
    "for i, idx in enumerate(random_indices):\n",
    "    plt.subplot(2, 5, i + 1)\n",
    "    plt.imshow(images[idx].squeeze(), cmap='gray')\n",
    "    plt.title(f'Pred: {predicted[idx].item()}')\n",
    "    plt.axis('off')\n",
    "\n",
    "plt.tight_layout()\n",
    "plt.show()"
   ]
  },
  {
   "cell_type": "markdown",
   "metadata": {
    "id": "L2Hqi-KMmi0x"
   },
   "source": [
    "## Q4"
   ]
  },
  {
   "cell_type": "code",
   "execution_count": null,
   "metadata": {
    "colab": {
     "base_uri": "https://localhost:8080/"
    },
    "executionInfo": {
     "elapsed": 746,
     "status": "ok",
     "timestamp": 1744447129370,
     "user": {
      "displayName": "Khai Tran",
      "userId": "17698159866751146148"
     },
     "user_tz": -600
    },
    "id": "wwed0WUpmi7T",
    "outputId": "cc3430e2-16ed-4d12-fda0-c223d3acdd34"
   },
   "outputs": [
    {
     "data": {
      "image/png": "[encoded data removed]",
      "text/plain": [
       "<Figure size 1000x1000 with 9 Axes>"
      ]
     },
     "metadata": {},
     "output_type": "display_data"
    }
   ],
   "source": [
    "# TODO: Extract the weight matrix of the first hidden layer\n",
    "weight_matrix = ...\n",
    "\n",
    "# Visualize 9 rows of the weight matrix\n",
    "plt.figure(figsize=(10, 10))\n",
    "for i in range(9):\n",
    "    plt.subplot(3, 3, i + 1)\n",
    "\n",
    "    # TODO: Normalize the weights to [0, 1]\n",
    "    weights_normalized = ...\n",
    "\n",
    "    # TODO: Reshape the weights to 28x28 to visualize as an image\n",
    "    weights_image = ...\n",
    "    \n",
    "    # Visualise the weights\n",
    "    plt.imshow(weights_image, cmap='gray')\n",
    "    plt.title(f\"Row {i + 1}\")\n",
    "    plt.axis('off')\n",
    "\n",
    "plt.tight_layout()\n",
    "plt.show()"
   ]
  }
 ],
 "metadata": {
  "accelerator": "GPU",
  "colab": {
   "gpuType": "T4",
   "provenance": [
    {
     "file_id": "1gTnx9Io8ywAkcl7DtRUPwAP2zqlZQZur",
     "timestamp": 1712533737171
    }
   ]
  },
  "kernelspec": {
   "display_name": "Python 3",
   "name": "python3"
  },
  "language_info": {
   "name": "python"
  }
 },
 "nbformat": 4,
 "nbformat_minor": 0
}
